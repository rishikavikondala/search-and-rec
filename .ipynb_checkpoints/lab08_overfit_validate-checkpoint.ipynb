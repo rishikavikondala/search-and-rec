{
 "cells": [
  {
   "cell_type": "markdown",
   "metadata": {
    "id": "LX-EJmfFNLsP"
   },
   "source": [
    "# 1 Preparation"
   ]
  },
  {
   "cell_type": "markdown",
   "metadata": {
    "id": "fMTIhIAvNT3R"
   },
   "source": [
    "## 1"
   ]
  },
  {
   "cell_type": "code",
   "execution_count": 30,
   "metadata": {
    "id": "DEulm-JMK9V8"
   },
   "outputs": [],
   "source": [
    "import pandas as pd\n",
    "import numpy as np"
   ]
  },
  {
   "cell_type": "code",
   "execution_count": 31,
   "metadata": {
    "id": "PLb4WFleLDxy"
   },
   "outputs": [],
   "source": [
    "airbnb = pd.read_csv('/content/airbnb-bangkok-score.csv',sep='\\t')"
   ]
  },
  {
   "cell_type": "code",
   "execution_count": 32,
   "metadata": {
    "colab": {
     "base_uri": "https://localhost:8080/",
     "height": 696
    },
    "id": "BpPMH2C4MqFM",
    "outputId": "4cfbc320-e39d-4dee-d0a1-22ad9256b0b1"
   },
   "outputs": [
    {
     "data": {
      "text/html": [
       "\n",
       "  <div id=\"df-9a1ab663-bee7-430b-96af-770df0726180\">\n",
       "    <div class=\"colab-df-container\">\n",
       "      <div>\n",
       "<style scoped>\n",
       "    .dataframe tbody tr th:only-of-type {\n",
       "        vertical-align: middle;\n",
       "    }\n",
       "\n",
       "    .dataframe tbody tr th {\n",
       "        vertical-align: top;\n",
       "    }\n",
       "\n",
       "    .dataframe thead th {\n",
       "        text-align: right;\n",
       "    }\n",
       "</style>\n",
       "<table border=\"1\" class=\"dataframe\">\n",
       "  <thead>\n",
       "    <tr style=\"text-align: right;\">\n",
       "      <th></th>\n",
       "      <th>price</th>\n",
       "      <th>minimum_nights</th>\n",
       "      <th>maximum_nights</th>\n",
       "      <th>instant_bookable</th>\n",
       "      <th>neighbourhood</th>\n",
       "      <th>reviews_per_month</th>\n",
       "      <th>calculated_host_listings_count</th>\n",
       "      <th>number_of_reviews</th>\n",
       "      <th>x1</th>\n",
       "      <th>x2</th>\n",
       "      <th>...</th>\n",
       "      <th>x24</th>\n",
       "      <th>x25</th>\n",
       "      <th>x26</th>\n",
       "      <th>x27</th>\n",
       "      <th>x28</th>\n",
       "      <th>x29</th>\n",
       "      <th>x30</th>\n",
       "      <th>highScore</th>\n",
       "      <th>firstReview</th>\n",
       "      <th>lastReview</th>\n",
       "    </tr>\n",
       "  </thead>\n",
       "  <tbody>\n",
       "    <tr>\n",
       "      <th>0</th>\n",
       "      <td>2300.0</td>\n",
       "      <td>1</td>\n",
       "      <td>1125</td>\n",
       "      <td>t</td>\n",
       "      <td>Bangkok, Thailand</td>\n",
       "      <td>0.04</td>\n",
       "      <td>8</td>\n",
       "      <td>1</td>\n",
       "      <td>O</td>\n",
       "      <td>N</td>\n",
       "      <td>...</td>\n",
       "      <td>P</td>\n",
       "      <td>N</td>\n",
       "      <td>E</td>\n",
       "      <td>P</td>\n",
       "      <td>B</td>\n",
       "      <td>O</td>\n",
       "      <td>H</td>\n",
       "      <td>False</td>\n",
       "      <td>2019</td>\n",
       "      <td>2019</td>\n",
       "    </tr>\n",
       "    <tr>\n",
       "      <th>1</th>\n",
       "      <td>360.0</td>\n",
       "      <td>1</td>\n",
       "      <td>1125</td>\n",
       "      <td>f</td>\n",
       "      <td>Khet Phra Nakhon, Krung Thep Maha Nakhon, Thai...</td>\n",
       "      <td>0.04</td>\n",
       "      <td>1</td>\n",
       "      <td>1</td>\n",
       "      <td>L</td>\n",
       "      <td>U</td>\n",
       "      <td>...</td>\n",
       "      <td>M</td>\n",
       "      <td>N</td>\n",
       "      <td>M</td>\n",
       "      <td>T</td>\n",
       "      <td>W</td>\n",
       "      <td>K</td>\n",
       "      <td>L</td>\n",
       "      <td>True</td>\n",
       "      <td>2020</td>\n",
       "      <td>2020</td>\n",
       "    </tr>\n",
       "    <tr>\n",
       "      <th>2</th>\n",
       "      <td>1017.0</td>\n",
       "      <td>1</td>\n",
       "      <td>180</td>\n",
       "      <td>t</td>\n",
       "      <td>NaN</td>\n",
       "      <td>0.13</td>\n",
       "      <td>188</td>\n",
       "      <td>2</td>\n",
       "      <td>K</td>\n",
       "      <td>K</td>\n",
       "      <td>...</td>\n",
       "      <td>A</td>\n",
       "      <td>T</td>\n",
       "      <td>Q</td>\n",
       "      <td>G</td>\n",
       "      <td>J</td>\n",
       "      <td>B</td>\n",
       "      <td>D</td>\n",
       "      <td>True</td>\n",
       "      <td>2020</td>\n",
       "      <td>2021</td>\n",
       "    </tr>\n",
       "    <tr>\n",
       "      <th>3</th>\n",
       "      <td>3500.0</td>\n",
       "      <td>1</td>\n",
       "      <td>30</td>\n",
       "      <td>t</td>\n",
       "      <td>NaN</td>\n",
       "      <td>0.04</td>\n",
       "      <td>5</td>\n",
       "      <td>1</td>\n",
       "      <td>U</td>\n",
       "      <td>D</td>\n",
       "      <td>...</td>\n",
       "      <td>L</td>\n",
       "      <td>M</td>\n",
       "      <td>N</td>\n",
       "      <td>M</td>\n",
       "      <td>G</td>\n",
       "      <td>X</td>\n",
       "      <td>I</td>\n",
       "      <td>True</td>\n",
       "      <td>2019</td>\n",
       "      <td>2019</td>\n",
       "    </tr>\n",
       "    <tr>\n",
       "      <th>4</th>\n",
       "      <td>729.0</td>\n",
       "      <td>1</td>\n",
       "      <td>180</td>\n",
       "      <td>t</td>\n",
       "      <td>NaN</td>\n",
       "      <td>0.28</td>\n",
       "      <td>188</td>\n",
       "      <td>8</td>\n",
       "      <td>S</td>\n",
       "      <td>H</td>\n",
       "      <td>...</td>\n",
       "      <td>V</td>\n",
       "      <td>G</td>\n",
       "      <td>U</td>\n",
       "      <td>K</td>\n",
       "      <td>O</td>\n",
       "      <td>M</td>\n",
       "      <td>P</td>\n",
       "      <td>True</td>\n",
       "      <td>2019</td>\n",
       "      <td>2019</td>\n",
       "    </tr>\n",
       "    <tr>\n",
       "      <th>...</th>\n",
       "      <td>...</td>\n",
       "      <td>...</td>\n",
       "      <td>...</td>\n",
       "      <td>...</td>\n",
       "      <td>...</td>\n",
       "      <td>...</td>\n",
       "      <td>...</td>\n",
       "      <td>...</td>\n",
       "      <td>...</td>\n",
       "      <td>...</td>\n",
       "      <td>...</td>\n",
       "      <td>...</td>\n",
       "      <td>...</td>\n",
       "      <td>...</td>\n",
       "      <td>...</td>\n",
       "      <td>...</td>\n",
       "      <td>...</td>\n",
       "      <td>...</td>\n",
       "      <td>...</td>\n",
       "      <td>...</td>\n",
       "      <td>...</td>\n",
       "    </tr>\n",
       "    <tr>\n",
       "      <th>1995</th>\n",
       "      <td>950.0</td>\n",
       "      <td>5</td>\n",
       "      <td>1125</td>\n",
       "      <td>f</td>\n",
       "      <td>เขต บางกะปิ, กรุงเทพมหานคร, Thailand</td>\n",
       "      <td>0.31</td>\n",
       "      <td>2</td>\n",
       "      <td>9</td>\n",
       "      <td>U</td>\n",
       "      <td>L</td>\n",
       "      <td>...</td>\n",
       "      <td>H</td>\n",
       "      <td>A</td>\n",
       "      <td>G</td>\n",
       "      <td>Y</td>\n",
       "      <td>F</td>\n",
       "      <td>W</td>\n",
       "      <td>F</td>\n",
       "      <td>True</td>\n",
       "      <td>2019</td>\n",
       "      <td>2020</td>\n",
       "    </tr>\n",
       "    <tr>\n",
       "      <th>1996</th>\n",
       "      <td>1000.0</td>\n",
       "      <td>1</td>\n",
       "      <td>1125</td>\n",
       "      <td>t</td>\n",
       "      <td>Khet Phra Nakhon, Krung Thep Maha Nakhon, Thai...</td>\n",
       "      <td>0.72</td>\n",
       "      <td>1</td>\n",
       "      <td>32</td>\n",
       "      <td>Y</td>\n",
       "      <td>R</td>\n",
       "      <td>...</td>\n",
       "      <td>R</td>\n",
       "      <td>W</td>\n",
       "      <td>F</td>\n",
       "      <td>R</td>\n",
       "      <td>B</td>\n",
       "      <td>W</td>\n",
       "      <td>V</td>\n",
       "      <td>False</td>\n",
       "      <td>2018</td>\n",
       "      <td>2020</td>\n",
       "    </tr>\n",
       "    <tr>\n",
       "      <th>1997</th>\n",
       "      <td>900.0</td>\n",
       "      <td>1</td>\n",
       "      <td>1125</td>\n",
       "      <td>f</td>\n",
       "      <td>NaN</td>\n",
       "      <td>0.18</td>\n",
       "      <td>2</td>\n",
       "      <td>5</td>\n",
       "      <td>E</td>\n",
       "      <td>N</td>\n",
       "      <td>...</td>\n",
       "      <td>N</td>\n",
       "      <td>D</td>\n",
       "      <td>B</td>\n",
       "      <td>G</td>\n",
       "      <td>H</td>\n",
       "      <td>R</td>\n",
       "      <td>O</td>\n",
       "      <td>True</td>\n",
       "      <td>2019</td>\n",
       "      <td>2020</td>\n",
       "    </tr>\n",
       "    <tr>\n",
       "      <th>1998</th>\n",
       "      <td>10300.0</td>\n",
       "      <td>1</td>\n",
       "      <td>1125</td>\n",
       "      <td>f</td>\n",
       "      <td>Phayathai, Krung Thep Maha Nakhon, Thailand</td>\n",
       "      <td>0.08</td>\n",
       "      <td>9</td>\n",
       "      <td>2</td>\n",
       "      <td>C</td>\n",
       "      <td>D</td>\n",
       "      <td>...</td>\n",
       "      <td>S</td>\n",
       "      <td>J</td>\n",
       "      <td>S</td>\n",
       "      <td>T</td>\n",
       "      <td>F</td>\n",
       "      <td>F</td>\n",
       "      <td>S</td>\n",
       "      <td>True</td>\n",
       "      <td>2019</td>\n",
       "      <td>2020</td>\n",
       "    </tr>\n",
       "    <tr>\n",
       "      <th>1999</th>\n",
       "      <td>2575.0</td>\n",
       "      <td>1</td>\n",
       "      <td>60</td>\n",
       "      <td>f</td>\n",
       "      <td>NaN</td>\n",
       "      <td>0.21</td>\n",
       "      <td>8</td>\n",
       "      <td>6</td>\n",
       "      <td>Y</td>\n",
       "      <td>O</td>\n",
       "      <td>...</td>\n",
       "      <td>T</td>\n",
       "      <td>X</td>\n",
       "      <td>X</td>\n",
       "      <td>J</td>\n",
       "      <td>F</td>\n",
       "      <td>H</td>\n",
       "      <td>Y</td>\n",
       "      <td>True</td>\n",
       "      <td>2019</td>\n",
       "      <td>2020</td>\n",
       "    </tr>\n",
       "  </tbody>\n",
       "</table>\n",
       "<p>2000 rows × 41 columns</p>\n",
       "</div>\n",
       "      <button class=\"colab-df-convert\" onclick=\"convertToInteractive('df-9a1ab663-bee7-430b-96af-770df0726180')\"\n",
       "              title=\"Convert this dataframe to an interactive table.\"\n",
       "              style=\"display:none;\">\n",
       "        \n",
       "  <svg xmlns=\"http://www.w3.org/2000/svg\" height=\"24px\"viewBox=\"0 0 24 24\"\n",
       "       width=\"24px\">\n",
       "    <path d=\"M0 0h24v24H0V0z\" fill=\"none\"/>\n",
       "    <path d=\"M18.56 5.44l.94 2.06.94-2.06 2.06-.94-2.06-.94-.94-2.06-.94 2.06-2.06.94zm-11 1L8.5 8.5l.94-2.06 2.06-.94-2.06-.94L8.5 2.5l-.94 2.06-2.06.94zm10 10l.94 2.06.94-2.06 2.06-.94-2.06-.94-.94-2.06-.94 2.06-2.06.94z\"/><path d=\"M17.41 7.96l-1.37-1.37c-.4-.4-.92-.59-1.43-.59-.52 0-1.04.2-1.43.59L10.3 9.45l-7.72 7.72c-.78.78-.78 2.05 0 2.83L4 21.41c.39.39.9.59 1.41.59.51 0 1.02-.2 1.41-.59l7.78-7.78 2.81-2.81c.8-.78.8-2.07 0-2.86zM5.41 20L4 18.59l7.72-7.72 1.47 1.35L5.41 20z\"/>\n",
       "  </svg>\n",
       "      </button>\n",
       "      \n",
       "  <style>\n",
       "    .colab-df-container {\n",
       "      display:flex;\n",
       "      flex-wrap:wrap;\n",
       "      gap: 12px;\n",
       "    }\n",
       "\n",
       "    .colab-df-convert {\n",
       "      background-color: #E8F0FE;\n",
       "      border: none;\n",
       "      border-radius: 50%;\n",
       "      cursor: pointer;\n",
       "      display: none;\n",
       "      fill: #1967D2;\n",
       "      height: 32px;\n",
       "      padding: 0 0 0 0;\n",
       "      width: 32px;\n",
       "    }\n",
       "\n",
       "    .colab-df-convert:hover {\n",
       "      background-color: #E2EBFA;\n",
       "      box-shadow: 0px 1px 2px rgba(60, 64, 67, 0.3), 0px 1px 3px 1px rgba(60, 64, 67, 0.15);\n",
       "      fill: #174EA6;\n",
       "    }\n",
       "\n",
       "    [theme=dark] .colab-df-convert {\n",
       "      background-color: #3B4455;\n",
       "      fill: #D2E3FC;\n",
       "    }\n",
       "\n",
       "    [theme=dark] .colab-df-convert:hover {\n",
       "      background-color: #434B5C;\n",
       "      box-shadow: 0px 1px 3px 1px rgba(0, 0, 0, 0.15);\n",
       "      filter: drop-shadow(0px 1px 2px rgba(0, 0, 0, 0.3));\n",
       "      fill: #FFFFFF;\n",
       "    }\n",
       "  </style>\n",
       "\n",
       "      <script>\n",
       "        const buttonEl =\n",
       "          document.querySelector('#df-9a1ab663-bee7-430b-96af-770df0726180 button.colab-df-convert');\n",
       "        buttonEl.style.display =\n",
       "          google.colab.kernel.accessAllowed ? 'block' : 'none';\n",
       "\n",
       "        async function convertToInteractive(key) {\n",
       "          const element = document.querySelector('#df-9a1ab663-bee7-430b-96af-770df0726180');\n",
       "          const dataTable =\n",
       "            await google.colab.kernel.invokeFunction('convertToInteractive',\n",
       "                                                     [key], {});\n",
       "          if (!dataTable) return;\n",
       "\n",
       "          const docLinkHtml = 'Like what you see? Visit the ' +\n",
       "            '<a target=\"_blank\" href=https://colab.research.google.com/notebooks/data_table.ipynb>data table notebook</a>'\n",
       "            + ' to learn more about interactive tables.';\n",
       "          element.innerHTML = '';\n",
       "          dataTable['output_type'] = 'display_data';\n",
       "          await google.colab.output.renderOutput(dataTable, element);\n",
       "          const docLink = document.createElement('div');\n",
       "          docLink.innerHTML = docLinkHtml;\n",
       "          element.appendChild(docLink);\n",
       "        }\n",
       "      </script>\n",
       "    </div>\n",
       "  </div>\n",
       "  "
      ],
      "text/plain": [
       "        price  minimum_nights  maximum_nights instant_bookable  \\\n",
       "0      2300.0               1            1125                t   \n",
       "1       360.0               1            1125                f   \n",
       "2      1017.0               1             180                t   \n",
       "3      3500.0               1              30                t   \n",
       "4       729.0               1             180                t   \n",
       "...       ...             ...             ...              ...   \n",
       "1995    950.0               5            1125                f   \n",
       "1996   1000.0               1            1125                t   \n",
       "1997    900.0               1            1125                f   \n",
       "1998  10300.0               1            1125                f   \n",
       "1999   2575.0               1              60                f   \n",
       "\n",
       "                                          neighbourhood  reviews_per_month  \\\n",
       "0                                     Bangkok, Thailand               0.04   \n",
       "1     Khet Phra Nakhon, Krung Thep Maha Nakhon, Thai...               0.04   \n",
       "2                                                   NaN               0.13   \n",
       "3                                                   NaN               0.04   \n",
       "4                                                   NaN               0.28   \n",
       "...                                                 ...                ...   \n",
       "1995               เขต บางกะปิ, กรุงเทพมหานคร, Thailand               0.31   \n",
       "1996  Khet Phra Nakhon, Krung Thep Maha Nakhon, Thai...               0.72   \n",
       "1997                                                NaN               0.18   \n",
       "1998        Phayathai, Krung Thep Maha Nakhon, Thailand               0.08   \n",
       "1999                                                NaN               0.21   \n",
       "\n",
       "      calculated_host_listings_count  number_of_reviews x1 x2  ... x24 x25  \\\n",
       "0                                  8                  1  O  N  ...   P   N   \n",
       "1                                  1                  1  L  U  ...   M   N   \n",
       "2                                188                  2  K  K  ...   A   T   \n",
       "3                                  5                  1  U  D  ...   L   M   \n",
       "4                                188                  8  S  H  ...   V   G   \n",
       "...                              ...                ... .. ..  ...  ..  ..   \n",
       "1995                               2                  9  U  L  ...   H   A   \n",
       "1996                               1                 32  Y  R  ...   R   W   \n",
       "1997                               2                  5  E  N  ...   N   D   \n",
       "1998                               9                  2  C  D  ...   S   J   \n",
       "1999                               8                  6  Y  O  ...   T   X   \n",
       "\n",
       "     x26 x27 x28 x29 x30 highScore firstReview lastReview  \n",
       "0      E   P   B   O   H     False        2019       2019  \n",
       "1      M   T   W   K   L      True        2020       2020  \n",
       "2      Q   G   J   B   D      True        2020       2021  \n",
       "3      N   M   G   X   I      True        2019       2019  \n",
       "4      U   K   O   M   P      True        2019       2019  \n",
       "...   ..  ..  ..  ..  ..       ...         ...        ...  \n",
       "1995   G   Y   F   W   F      True        2019       2020  \n",
       "1996   F   R   B   W   V     False        2018       2020  \n",
       "1997   B   G   H   R   O      True        2019       2020  \n",
       "1998   S   T   F   F   S      True        2019       2020  \n",
       "1999   X   J   F   H   Y      True        2019       2020  \n",
       "\n",
       "[2000 rows x 41 columns]"
      ]
     },
     "execution_count": 32,
     "metadata": {},
     "output_type": "execute_result"
    }
   ],
   "source": [
    "airbnb"
   ]
  },
  {
   "cell_type": "markdown",
   "metadata": {
    "id": "aA8N9tY3NWOX"
   },
   "source": [
    "## 2"
   ]
  },
  {
   "cell_type": "code",
   "execution_count": 8,
   "metadata": {
    "colab": {
     "base_uri": "https://localhost:8080/"
    },
    "id": "PAVIBcv-Mr6k",
    "outputId": "4c78cefc-f9dd-4952-e3b1-5a1ee7200a2c"
   },
   "outputs": [
    {
     "name": "stdout",
     "output_type": "stream",
     "text": [
      "2000 cases\n"
     ]
    }
   ],
   "source": [
    "print(str(len(airbnb)) + \" cases\")"
   ]
  },
  {
   "cell_type": "code",
   "execution_count": 9,
   "metadata": {
    "colab": {
     "base_uri": "https://localhost:8080/"
    },
    "id": "3OO9w0-dOTsD",
    "outputId": "e6200bd9-76a2-4b8f-84cb-276ee58cd69d"
   },
   "outputs": [
    {
     "data": {
      "text/plain": [
       "price                             float64\n",
       "minimum_nights                      int64\n",
       "maximum_nights                      int64\n",
       "instant_bookable                   object\n",
       "neighbourhood                      object\n",
       "reviews_per_month                 float64\n",
       "calculated_host_listings_count      int64\n",
       "number_of_reviews                   int64\n",
       "x1                                 object\n",
       "x2                                 object\n",
       "x3                                 object\n",
       "x4                                 object\n",
       "x5                                 object\n",
       "x6                                 object\n",
       "x7                                 object\n",
       "x8                                 object\n",
       "x9                                 object\n",
       "x10                                object\n",
       "x11                                object\n",
       "x12                                object\n",
       "x13                                object\n",
       "x14                                object\n",
       "x15                                object\n",
       "x16                                object\n",
       "x17                                object\n",
       "x18                                object\n",
       "x19                                object\n",
       "x20                                object\n",
       "x21                                object\n",
       "x22                                object\n",
       "x23                                object\n",
       "x24                                object\n",
       "x25                                object\n",
       "x26                                object\n",
       "x27                                object\n",
       "x28                                object\n",
       "x29                                object\n",
       "x30                                object\n",
       "highScore                            bool\n",
       "firstReview                         int64\n",
       "lastReview                          int64\n",
       "dtype: object"
      ]
     },
     "execution_count": 9,
     "metadata": {},
     "output_type": "execute_result"
    }
   ],
   "source": [
    "airbnb.dtypes"
   ]
  },
  {
   "cell_type": "code",
   "execution_count": 10,
   "metadata": {
    "colab": {
     "base_uri": "https://localhost:8080/"
    },
    "id": "ASsfBsXOOfaY",
    "outputId": "3320f513-60c4-40a3-fe16-7ba9452e1c48"
   },
   "outputs": [
    {
     "data": {
      "text/plain": [
       "41"
      ]
     },
     "execution_count": 10,
     "metadata": {},
     "output_type": "execute_result"
    }
   ],
   "source": [
    "len(airbnb.columns)"
   ]
  },
  {
   "cell_type": "markdown",
   "metadata": {
    "id": "DdAEez-WN4Kn"
   },
   "source": [
    "## 3."
   ]
  },
  {
   "cell_type": "code",
   "execution_count": 11,
   "metadata": {
    "id": "2s3BnbhrOqem"
   },
   "outputs": [],
   "source": [
    "y = airbnb.highScore"
   ]
  },
  {
   "cell_type": "markdown",
   "metadata": {
    "id": "hV-NyabfN6Ki"
   },
   "source": [
    "## 4."
   ]
  },
  {
   "cell_type": "code",
   "execution_count": 13,
   "metadata": {
    "colab": {
     "base_uri": "https://localhost:8080/"
    },
    "id": "66JztHjUHKJp",
    "outputId": "200dfdc0-b2af-422a-b9e3-abab3f202262"
   },
   "outputs": [
    {
     "data": {
      "text/plain": [
       "(2000, 40)"
      ]
     },
     "execution_count": 13,
     "metadata": {},
     "output_type": "execute_result"
    }
   ],
   "source": [
    "X = airbnb.drop(\"highScore\", axis=1)\n",
    "X.shape"
   ]
  },
  {
   "cell_type": "code",
   "execution_count": 24,
   "metadata": {
    "colab": {
     "base_uri": "https://localhost:8080/"
    },
    "id": "Niv6Sf2cKS9e",
    "outputId": "f4f31373-1d8a-457a-c31c-e86dc5da60d8"
   },
   "outputs": [
    {
     "data": {
      "text/plain": [
       "(2000, 80)"
      ]
     },
     "execution_count": 24,
     "metadata": {},
     "output_type": "execute_result"
    }
   ],
   "source": [
    "N = airbnb.shape[0]\n",
    "R = np.random.normal(size=(N, 40))\n",
    "XR = np.column_stack((X, R))\n",
    "XR.shape"
   ]
  },
  {
   "cell_type": "markdown",
   "metadata": {
    "id": "Em9f5a3YN713"
   },
   "source": [
    "## 5."
   ]
  },
  {
   "cell_type": "markdown",
   "metadata": {
    "id": "uNEiMog4N81h"
   },
   "source": [
    "Because highScore is our dependent variable and we are trying to predict it using solely other variables."
   ]
  },
  {
   "cell_type": "markdown",
   "metadata": {
    "id": "n4OFGaZ5OD9c"
   },
   "source": [
    "# 2"
   ]
  },
  {
   "cell_type": "markdown",
   "metadata": {
    "id": "RxQ_O_i3OG_I"
   },
   "source": [
    "## 1."
   ]
  },
  {
   "cell_type": "code",
   "execution_count": 33,
   "metadata": {
    "id": "mp5aZglbOHdK"
   },
   "outputs": [],
   "source": [
    "Xj = XR[:,:10]"
   ]
  },
  {
   "cell_type": "markdown",
   "metadata": {
    "id": "-OMtDClHOkwy"
   },
   "source": [
    "## 2."
   ]
  },
  {
   "cell_type": "code",
   "execution_count": 38,
   "metadata": {
    "colab": {
     "base_uri": "https://localhost:8080/",
     "height": 407
    },
    "id": "eCCPciRsOlMy",
    "outputId": "060fbb7f-e60c-4d70-8188-2ea21a1e9e62"
   },
   "outputs": [
    {
     "ename": "ValueError",
     "evalue": "ignored",
     "output_type": "error",
     "traceback": [
      "\u001b[0;31m---------------------------------------------------------------------------\u001b[0m",
      "\u001b[0;31mValueError\u001b[0m                                Traceback (most recent call last)",
      "\u001b[0;32m<ipython-input-38-043b6b1cb18f>\u001b[0m in \u001b[0;36m<module>\u001b[0;34m()\u001b[0m\n\u001b[1;32m      2\u001b[0m                                   \u001b[0;34m'x8'\u001b[0m\u001b[0;34m,\u001b[0m \u001b[0;34m'x9'\u001b[0m\u001b[0;34m,\u001b[0m \u001b[0;34m'x9'\u001b[0m\u001b[0;34m,\u001b[0m \u001b[0;34m'x10'\u001b[0m\u001b[0;34m,\u001b[0m \u001b[0;34m'x11'\u001b[0m\u001b[0;34m,\u001b[0m \u001b[0;34m'x11'\u001b[0m\u001b[0;34m,\u001b[0m \u001b[0;34m'x12'\u001b[0m\u001b[0;34m,\u001b[0m \u001b[0;34m'x13'\u001b[0m\u001b[0;34m,\u001b[0m \u001b[0;34m'x14'\u001b[0m\u001b[0;34m,\u001b[0m \u001b[0;34m'x15'\u001b[0m\u001b[0;34m,\u001b[0m \u001b[0;34m'x16'\u001b[0m\u001b[0;34m,\u001b[0m \u001b[0;34m'x17'\u001b[0m\u001b[0;34m,\u001b[0m\u001b[0;34m\u001b[0m\u001b[0;34m\u001b[0m\u001b[0m\n\u001b[1;32m      3\u001b[0m                                   \u001b[0;34m'x18'\u001b[0m\u001b[0;34m,\u001b[0m \u001b[0;34m'x19'\u001b[0m\u001b[0;34m,\u001b[0m \u001b[0;34m'x20'\u001b[0m\u001b[0;34m,\u001b[0m \u001b[0;34m'x21'\u001b[0m\u001b[0;34m,\u001b[0m \u001b[0;34m'x22'\u001b[0m\u001b[0;34m,\u001b[0m \u001b[0;34m'x23'\u001b[0m\u001b[0;34m,\u001b[0m \u001b[0;34m'x24'\u001b[0m\u001b[0;34m,\u001b[0m \u001b[0;34m'x25'\u001b[0m\u001b[0;34m,\u001b[0m \u001b[0;34m'x26'\u001b[0m\u001b[0;34m,\u001b[0m \u001b[0;34m'x27'\u001b[0m\u001b[0;34m,\u001b[0m \u001b[0;34m'x28'\u001b[0m\u001b[0;34m,\u001b[0m \u001b[0;34m'x29'\u001b[0m\u001b[0;34m,\u001b[0m\u001b[0;34m\u001b[0m\u001b[0;34m\u001b[0m\u001b[0m\n\u001b[0;32m----> 4\u001b[0;31m                                   'x30'])\n\u001b[0m",
      "\u001b[0;32m/usr/local/lib/python3.7/dist-packages/pandas/core/reshape/reshape.py\u001b[0m in \u001b[0;36mget_dummies\u001b[0;34m(data, prefix, prefix_sep, dummy_na, columns, sparse, drop_first, dtype)\u001b[0m\n\u001b[1;32m    953\u001b[0m             \u001b[0msparse\u001b[0m\u001b[0;34m=\u001b[0m\u001b[0msparse\u001b[0m\u001b[0;34m,\u001b[0m\u001b[0;34m\u001b[0m\u001b[0;34m\u001b[0m\u001b[0m\n\u001b[1;32m    954\u001b[0m             \u001b[0mdrop_first\u001b[0m\u001b[0;34m=\u001b[0m\u001b[0mdrop_first\u001b[0m\u001b[0;34m,\u001b[0m\u001b[0;34m\u001b[0m\u001b[0;34m\u001b[0m\u001b[0m\n\u001b[0;32m--> 955\u001b[0;31m             \u001b[0mdtype\u001b[0m\u001b[0;34m=\u001b[0m\u001b[0mdtype\u001b[0m\u001b[0;34m,\u001b[0m\u001b[0;34m\u001b[0m\u001b[0;34m\u001b[0m\u001b[0m\n\u001b[0m\u001b[1;32m    956\u001b[0m         )\n\u001b[1;32m    957\u001b[0m     \u001b[0;32mreturn\u001b[0m \u001b[0mresult\u001b[0m\u001b[0;34m\u001b[0m\u001b[0;34m\u001b[0m\u001b[0m\n",
      "\u001b[0;32m/usr/local/lib/python3.7/dist-packages/pandas/core/reshape/reshape.py\u001b[0m in \u001b[0;36m_get_dummies_1d\u001b[0;34m(data, prefix, prefix_sep, dummy_na, sparse, drop_first, dtype)\u001b[0m\n\u001b[1;32m    970\u001b[0m \u001b[0;34m\u001b[0m\u001b[0m\n\u001b[1;32m    971\u001b[0m     \u001b[0;31m# Series avoids inconsistent NaN handling\u001b[0m\u001b[0;34m\u001b[0m\u001b[0;34m\u001b[0m\u001b[0;34m\u001b[0m\u001b[0m\n\u001b[0;32m--> 972\u001b[0;31m     \u001b[0mcodes\u001b[0m\u001b[0;34m,\u001b[0m \u001b[0mlevels\u001b[0m \u001b[0;34m=\u001b[0m \u001b[0mfactorize_from_iterable\u001b[0m\u001b[0;34m(\u001b[0m\u001b[0mSeries\u001b[0m\u001b[0;34m(\u001b[0m\u001b[0mdata\u001b[0m\u001b[0;34m)\u001b[0m\u001b[0;34m)\u001b[0m\u001b[0;34m\u001b[0m\u001b[0;34m\u001b[0m\u001b[0m\n\u001b[0m\u001b[1;32m    973\u001b[0m \u001b[0;34m\u001b[0m\u001b[0m\n\u001b[1;32m    974\u001b[0m     \u001b[0;32mif\u001b[0m \u001b[0mdtype\u001b[0m \u001b[0;32mis\u001b[0m \u001b[0;32mNone\u001b[0m\u001b[0;34m:\u001b[0m\u001b[0;34m\u001b[0m\u001b[0;34m\u001b[0m\u001b[0m\n",
      "\u001b[0;32m/usr/local/lib/python3.7/dist-packages/pandas/core/series.py\u001b[0m in \u001b[0;36m__init__\u001b[0;34m(self, data, index, dtype, name, copy, fastpath)\u001b[0m\n\u001b[1;32m    437\u001b[0m                     \u001b[0mdata\u001b[0m \u001b[0;34m=\u001b[0m \u001b[0mdata\u001b[0m\u001b[0;34m.\u001b[0m\u001b[0mcopy\u001b[0m\u001b[0;34m(\u001b[0m\u001b[0;34m)\u001b[0m\u001b[0;34m\u001b[0m\u001b[0;34m\u001b[0m\u001b[0m\n\u001b[1;32m    438\u001b[0m             \u001b[0;32melse\u001b[0m\u001b[0;34m:\u001b[0m\u001b[0;34m\u001b[0m\u001b[0;34m\u001b[0m\u001b[0m\n\u001b[0;32m--> 439\u001b[0;31m                 \u001b[0mdata\u001b[0m \u001b[0;34m=\u001b[0m \u001b[0msanitize_array\u001b[0m\u001b[0;34m(\u001b[0m\u001b[0mdata\u001b[0m\u001b[0;34m,\u001b[0m \u001b[0mindex\u001b[0m\u001b[0;34m,\u001b[0m \u001b[0mdtype\u001b[0m\u001b[0;34m,\u001b[0m \u001b[0mcopy\u001b[0m\u001b[0;34m)\u001b[0m\u001b[0;34m\u001b[0m\u001b[0;34m\u001b[0m\u001b[0m\n\u001b[0m\u001b[1;32m    440\u001b[0m \u001b[0;34m\u001b[0m\u001b[0m\n\u001b[1;32m    441\u001b[0m                 \u001b[0mmanager\u001b[0m \u001b[0;34m=\u001b[0m \u001b[0mget_option\u001b[0m\u001b[0;34m(\u001b[0m\u001b[0;34m\"mode.data_manager\"\u001b[0m\u001b[0;34m)\u001b[0m\u001b[0;34m\u001b[0m\u001b[0;34m\u001b[0m\u001b[0m\n",
      "\u001b[0;32m/usr/local/lib/python3.7/dist-packages/pandas/core/construction.py\u001b[0m in \u001b[0;36msanitize_array\u001b[0;34m(data, index, dtype, copy, raise_cast_failure, allow_2d)\u001b[0m\n\u001b[1;32m    574\u001b[0m                 \u001b[0msubarr\u001b[0m \u001b[0;34m=\u001b[0m \u001b[0mmaybe_infer_to_datetimelike\u001b[0m\u001b[0;34m(\u001b[0m\u001b[0msubarr\u001b[0m\u001b[0;34m)\u001b[0m\u001b[0;34m\u001b[0m\u001b[0;34m\u001b[0m\u001b[0m\n\u001b[1;32m    575\u001b[0m \u001b[0;34m\u001b[0m\u001b[0m\n\u001b[0;32m--> 576\u001b[0;31m     \u001b[0msubarr\u001b[0m \u001b[0;34m=\u001b[0m \u001b[0m_sanitize_ndim\u001b[0m\u001b[0;34m(\u001b[0m\u001b[0msubarr\u001b[0m\u001b[0;34m,\u001b[0m \u001b[0mdata\u001b[0m\u001b[0;34m,\u001b[0m \u001b[0mdtype\u001b[0m\u001b[0;34m,\u001b[0m \u001b[0mindex\u001b[0m\u001b[0;34m,\u001b[0m \u001b[0mallow_2d\u001b[0m\u001b[0;34m=\u001b[0m\u001b[0mallow_2d\u001b[0m\u001b[0;34m)\u001b[0m\u001b[0;34m\u001b[0m\u001b[0;34m\u001b[0m\u001b[0m\n\u001b[0m\u001b[1;32m    577\u001b[0m \u001b[0;34m\u001b[0m\u001b[0m\n\u001b[1;32m    578\u001b[0m     \u001b[0;32mif\u001b[0m \u001b[0misinstance\u001b[0m\u001b[0;34m(\u001b[0m\u001b[0msubarr\u001b[0m\u001b[0;34m,\u001b[0m \u001b[0mnp\u001b[0m\u001b[0;34m.\u001b[0m\u001b[0mndarray\u001b[0m\u001b[0;34m)\u001b[0m\u001b[0;34m:\u001b[0m\u001b[0;34m\u001b[0m\u001b[0;34m\u001b[0m\u001b[0m\n",
      "\u001b[0;32m/usr/local/lib/python3.7/dist-packages/pandas/core/construction.py\u001b[0m in \u001b[0;36m_sanitize_ndim\u001b[0;34m(result, data, dtype, index, allow_2d)\u001b[0m\n\u001b[1;32m    625\u001b[0m             \u001b[0;32mif\u001b[0m \u001b[0mallow_2d\u001b[0m\u001b[0;34m:\u001b[0m\u001b[0;34m\u001b[0m\u001b[0;34m\u001b[0m\u001b[0m\n\u001b[1;32m    626\u001b[0m                 \u001b[0;32mreturn\u001b[0m \u001b[0mresult\u001b[0m\u001b[0;34m\u001b[0m\u001b[0;34m\u001b[0m\u001b[0m\n\u001b[0;32m--> 627\u001b[0;31m             \u001b[0;32mraise\u001b[0m \u001b[0mValueError\u001b[0m\u001b[0;34m(\u001b[0m\u001b[0;34m\"Data must be 1-dimensional\"\u001b[0m\u001b[0;34m)\u001b[0m\u001b[0;34m\u001b[0m\u001b[0;34m\u001b[0m\u001b[0m\n\u001b[0m\u001b[1;32m    628\u001b[0m         \u001b[0;32mif\u001b[0m \u001b[0mis_object_dtype\u001b[0m\u001b[0;34m(\u001b[0m\u001b[0mdtype\u001b[0m\u001b[0;34m)\u001b[0m \u001b[0;32mand\u001b[0m \u001b[0misinstance\u001b[0m\u001b[0;34m(\u001b[0m\u001b[0mdtype\u001b[0m\u001b[0;34m,\u001b[0m \u001b[0mExtensionDtype\u001b[0m\u001b[0;34m)\u001b[0m\u001b[0;34m:\u001b[0m\u001b[0;34m\u001b[0m\u001b[0;34m\u001b[0m\u001b[0m\n\u001b[1;32m    629\u001b[0m             \u001b[0;31m# i.e. PandasDtype(\"O\")\u001b[0m\u001b[0;34m\u001b[0m\u001b[0;34m\u001b[0m\u001b[0;34m\u001b[0m\u001b[0m\n",
      "\u001b[0;31mValueError\u001b[0m: Data must be 1-dimensional"
     ]
    }
   ],
   "source": [
    "Xjs = pd.get_dummies(Xj, columns=['instant_bookable', 'neighbourhood', 'x1', 'x2', 'x3', 'x4', 'x5', 'x6', 'x7',\n",
    "                                  'x8', 'x9', 'x9', 'x10', 'x11', 'x11', 'x12', 'x13', 'x14', 'x15', 'x16', 'x17',\n",
    "                                  'x18', 'x19', 'x20', 'x21', 'x22', 'x23', 'x24', 'x25', 'x26', 'x27', 'x28', 'x29',\n",
    "                                  'x30'])"
   ]
  }
 ],
 "metadata": {
  "colab": {
   "name": "lab08-overfit-validate.ipynb",
   "provenance": []
  },
  "kernelspec": {
   "display_name": "Python 3",
   "name": "python3"
  },
  "language_info": {
   "name": "python"
  }
 },
 "nbformat": 4,
 "nbformat_minor": 0
}
